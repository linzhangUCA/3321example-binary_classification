{
 "cells": [
  {
   "cell_type": "markdown",
   "metadata": {},
   "source": [
    "# Breast Cancer Classification"
   ]
  },
  {
   "cell_type": "markdown",
   "metadata": {},
   "source": [
    "## Load Dataset"
   ]
  },
  {
   "cell_type": "code",
   "execution_count": 3,
   "metadata": {},
   "outputs": [
    {
     "name": "stdout",
     "output_type": "stream",
     "text": [
      "(569, 30) (569,)\n"
     ]
    }
   ],
   "source": [
    "from sklearn.datasets import load_breast_cancer\n",
    "import numpy as np\n",
    "feature_raw, label_raw = load_breast_cancer(return_X_y=True)\n",
    "print(feature_raw.shape, label_raw.shape)"
   ]
  },
  {
   "cell_type": "markdown",
   "metadata": {},
   "source": [
    "### Regulate Dataset"
   ]
  },
  {
   "cell_type": "code",
   "execution_count": 4,
   "metadata": {},
   "outputs": [
    {
     "name": "stdout",
     "output_type": "stream",
     "text": [
      "(569, 30) (569, 1)\n"
     ]
    }
   ],
   "source": [
    "feature_train = feature_raw / feature_raw.max(axis=0)\n",
    "label_train = label_raw.reshape(-1, 1)\n",
    "print(feature_train.shape, label_train.shape)"
   ]
  },
  {
   "cell_type": "markdown",
   "metadata": {},
   "source": [
    "## Make a Model"
   ]
  },
  {
   "cell_type": "code",
   "execution_count": 9,
   "metadata": {},
   "outputs": [
    {
     "name": "stdout",
     "output_type": "stream",
     "text": [
      "0.6274165202108963\n"
     ]
    }
   ],
   "source": [
    "# Define linear function\n",
    "def linear(in_features, weight, bias):\n",
    "    return in_features @ weight.T + bias\n",
    "\n",
    "# Define ReLU function\n",
    "def sigmoid(x):\n",
    "    return 1 / (1 + np.exp(-x))\n",
    "\n",
    "# Redefine forward pass. Intermediate result, Z, needs to be tracked \n",
    "def forward(in_features, weight, bias):\n",
    "    out_features = linear(in_features, weight, bias)\n",
    "    pred = sigmoid(out_features)\n",
    "    return pred\n",
    "\n",
    "# Sanity check\n",
    "w_dummy = np.random.normal(0, 1e-3, (1, feature_train.shape[1]))\n",
    "b_dummy = np.random.normal(0, 1e-3)\n",
    "pred_dummy = forward(feature_train, w_dummy, b_dummy)\n",
    "# print(pred_dummy)\n",
    "pred_class_dummy = pred_dummy > 0.5\n",
    "# print(pred_class_dummy)\n",
    "# print(pred_class_dummy, label_train)\n",
    "# print(pred_class_dummy==label_train)\n",
    "accuracy = np.sum(pred_class_dummy==label_train) / label_train.shape[0]\n",
    "print(accuracy)"
   ]
  },
  {
   "cell_type": "markdown",
   "metadata": {},
   "source": [
    "## Evaluate Model with Binary Cross-Entropy Loss"
   ]
  },
  {
   "cell_type": "code",
   "execution_count": 10,
   "metadata": {},
   "outputs": [
    {
     "name": "stdout",
     "output_type": "stream",
     "text": [
      "0.692761052052111\n"
     ]
    }
   ],
   "source": [
    "def bce_loss(pred, label):\n",
    "    error = -label * np.log(pred) - (1 - label) * np.log(1 - pred)\n",
    "    return np.mean(error)\n",
    "\n",
    "# Sanity check\n",
    "loss_dummy = bce_loss(pred_dummy, label_train)\n",
    "print(loss_dummy)"
   ]
  },
  {
   "cell_type": "markdown",
   "metadata": {},
   "source": [
    "## Gradient Descent Model Optimization"
   ]
  },
  {
   "cell_type": "code",
   "execution_count": null,
   "metadata": {},
   "outputs": [],
   "source": [
    "def grad(in_features, pred, label):\n",
    "    dw = 1 / label.shape[0] * (pred - label).T @ in_features\n",
    "    db = np.mean(pred - label)\n",
    "    return dw, db\n",
    "\n"
   ]
  }
 ],
 "metadata": {
  "kernelspec": {
   "display_name": "3321",
   "language": "python",
   "name": "python3"
  },
  "language_info": {
   "codemirror_mode": {
    "name": "ipython",
    "version": 3
   },
   "file_extension": ".py",
   "mimetype": "text/x-python",
   "name": "python",
   "nbconvert_exporter": "python",
   "pygments_lexer": "ipython3",
   "version": "3.10.12"
  }
 },
 "nbformat": 4,
 "nbformat_minor": 2
}
