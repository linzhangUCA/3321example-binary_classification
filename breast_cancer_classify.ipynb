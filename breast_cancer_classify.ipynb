{
 "cells": [
  {
   "cell_type": "markdown",
   "metadata": {},
   "source": [
    "# Breast Cancer Classification"
   ]
  },
  {
   "cell_type": "markdown",
   "metadata": {},
   "source": [
    "## Load Dataset"
   ]
  },
  {
   "cell_type": "code",
   "execution_count": 1,
   "metadata": {},
   "outputs": [
    {
     "name": "stdout",
     "output_type": "stream",
     "text": [
      "(569, 30) (569,)\n"
     ]
    }
   ],
   "source": [
    "from sklearn.datasets import load_breast_cancer\n",
    "import numpy as np\n",
    "X_raw, y_raw = load_breast_cancer(return_X_y=True)\n",
    "print(X_raw.shape, y_raw.shape)"
   ]
  },
  {
   "cell_type": "markdown",
   "metadata": {},
   "source": [
    "### Regulate Dataset"
   ]
  },
  {
   "cell_type": "code",
   "execution_count": 2,
   "metadata": {},
   "outputs": [
    {
     "name": "stdout",
     "output_type": "stream",
     "text": [
      "(569, 30) (569, 1)\n"
     ]
    }
   ],
   "source": [
    "X = X_raw / X_raw.max(axis=0)\n",
    "y = y_raw.reshape(-1, 1)\n",
    "print(X.shape, y.shape)"
   ]
  },
  {
   "cell_type": "markdown",
   "metadata": {},
   "source": [
    "## Make a Model"
   ]
  },
  {
   "cell_type": "code",
   "execution_count": 23,
   "metadata": {},
   "outputs": [
    {
     "name": "stdout",
     "output_type": "stream",
     "text": [
      "0.8471001757469244\n"
     ]
    }
   ],
   "source": [
    "# Define linear function\n",
    "def linear(input, weight, bias):\n",
    "    return input @ weight.T + bias\n",
    "\n",
    "# Define ReLU function\n",
    "def sigmoid(x):\n",
    "    return 1 / (1 + np.exp(-x))\n",
    "\n",
    "# Redefine forward pass. Intermediate result, Z, needs to be tracked \n",
    "def forward(feature, weight, bias):\n",
    "    Z = linear(feature, weight, bias)\n",
    "    pred = sigmoid(Z)\n",
    "    return pred\n",
    "\n",
    "# Sanity check\n",
    "w_dummy = np.random.normal(0, 1e-3, (1, X.shape[1]))\n",
    "b_dummy = np.random.normal(0, 1e-3)\n",
    "pred_dummy = forward(X, w_dummy, b_dummy)\n",
    "pred_class_dummy = pred_dummy > 0.5\n",
    "accuracy = np.sum(pred_class_dummy==y) / y.shape[0]\n",
    "print(accuracy)"
   ]
  },
  {
   "cell_type": "markdown",
   "metadata": {},
   "source": [
    "## Evaluate Model with Binary Cross-Entropy Loss"
   ]
  },
  {
   "cell_type": "code",
   "execution_count": 24,
   "metadata": {},
   "outputs": [
    {
     "name": "stdout",
     "output_type": "stream",
     "text": [
      "0.6929241962559888\n"
     ]
    }
   ],
   "source": [
    "def binary_cross_entropy(pred, label):\n",
    "    error = -label * np.log(pred) - (1 - label) * np.log(1 - pred)\n",
    "    return np.mean(error)\n",
    "\n",
    "# Sanity check\n",
    "loss_dummy = binary_cross_entropy(pred_dummy, y)\n",
    "print(loss_dummy)"
   ]
  },
  {
   "cell_type": "code",
   "execution_count": null,
   "metadata": {},
   "outputs": [],
   "source": []
  }
 ],
 "metadata": {
  "kernelspec": {
   "display_name": "3321",
   "language": "python",
   "name": "python3"
  },
  "language_info": {
   "codemirror_mode": {
    "name": "ipython",
    "version": 3
   },
   "file_extension": ".py",
   "mimetype": "text/x-python",
   "name": "python",
   "nbconvert_exporter": "python",
   "pygments_lexer": "ipython3",
   "version": "3.12.5"
  }
 },
 "nbformat": 4,
 "nbformat_minor": 2
}
